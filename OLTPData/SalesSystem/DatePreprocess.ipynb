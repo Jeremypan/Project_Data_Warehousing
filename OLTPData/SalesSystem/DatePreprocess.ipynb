{
 "cells": [
  {
   "cell_type": "code",
   "execution_count": 22,
   "metadata": {},
   "outputs": [],
   "source": [
    "import pandas as pd"
   ]
  },
  {
   "cell_type": "code",
   "execution_count": 23,
   "metadata": {},
   "outputs": [],
   "source": [
    "df_sale=pd.read_excel('Sale.xlsx')"
   ]
  },
  {
   "cell_type": "code",
   "execution_count": 24,
   "metadata": {},
   "outputs": [
    {
     "name": "stderr",
     "output_type": "stream",
     "text": [
      "C:\\Anaconda3\\lib\\site-packages\\ipykernel_launcher.py:8: SettingWithCopyWarning: \n",
      "A value is trying to be set on a copy of a slice from a DataFrame\n",
      "\n",
      "See the caveats in the documentation: http://pandas.pydata.org/pandas-docs/stable/indexing.html#indexing-view-versus-copy\n",
      "  \n",
      "C:\\Anaconda3\\lib\\site-packages\\ipykernel_launcher.py:12: SettingWithCopyWarning: \n",
      "A value is trying to be set on a copy of a slice from a DataFrame\n",
      "\n",
      "See the caveats in the documentation: http://pandas.pydata.org/pandas-docs/stable/indexing.html#indexing-view-versus-copy\n",
      "  if sys.path[0] == '':\n",
      "C:\\Anaconda3\\lib\\site-packages\\ipykernel_launcher.py:16: SettingWithCopyWarning: \n",
      "A value is trying to be set on a copy of a slice from a DataFrame\n",
      "\n",
      "See the caveats in the documentation: http://pandas.pydata.org/pandas-docs/stable/indexing.html#indexing-view-versus-copy\n",
      "  app.launch_new_instance()\n"
     ]
    }
   ],
   "source": [
    "import datetime\n",
    "now=datetime.datetime.now()\n",
    "for i in range(len(df_sale['Date'])):\n",
    "    if type(df_sale['Date'][i]) is datetime.datetime:\n",
    "        stamp=df_sale['Date'][i]\n",
    "        stamp=stamp.strftime('%m-%d-%Y')\n",
    "        stamp=datetime.datetime.strptime(stamp,'%d-%m-%Y')\n",
    "        df_sale['Date'][i]=stamp.strftime('%d-%m-%Y')\n",
    "    else:\n",
    "        try:\n",
    "            stamp=datetime.datetime.strptime(df_sale['Date'][i],'%d/%m/%Y')\n",
    "            df_sale['Date'][i]=stamp.strftime('%d-%m-%Y')\n",
    "        except:\n",
    "            wrong_date_time_correct=df_sale['Date'][i].replace(df_sale['Date'][i][:2],str(int(df_sale['Date'][i][:2])-1))\n",
    "            stamp=datetime.datetime.strptime(wrong_date_time_correct,'%d/%m/%Y')\n",
    "            df_sale['Date'][i]=stamp.strftime('%d-%m-%Y')"
   ]
  },
  {
   "cell_type": "code",
   "execution_count": 12,
   "metadata": {},
   "outputs": [
    {
     "data": {
      "text/plain": [
       "SaleID          int64\n",
       "Cust_Key        int64\n",
       "Date           object\n",
       "Sales Agent    object\n",
       "dtype: object"
      ]
     },
     "execution_count": 12,
     "metadata": {},
     "output_type": "execute_result"
    }
   ],
   "source": [
    "df_sale.dtypes"
   ]
  },
  {
   "cell_type": "code",
   "execution_count": 13,
   "metadata": {},
   "outputs": [],
   "source": [
    "df_sale['Date']=df_sale['Date'].astype(str)"
   ]
  },
  {
   "cell_type": "code",
   "execution_count": 14,
   "metadata": {},
   "outputs": [
    {
     "data": {
      "text/plain": [
       "SaleID          int64\n",
       "Cust_Key        int64\n",
       "Date           object\n",
       "Sales Agent    object\n",
       "dtype: object"
      ]
     },
     "execution_count": 14,
     "metadata": {},
     "output_type": "execute_result"
    }
   ],
   "source": [
    "df_sale.dtypes"
   ]
  },
  {
   "cell_type": "code",
   "execution_count": 19,
   "metadata": {},
   "outputs": [],
   "source": [
    "df_sale.to_excel('sale_fix.xlsx',index=None)"
   ]
  },
  {
   "cell_type": "code",
   "execution_count": 21,
   "metadata": {},
   "outputs": [
    {
     "name": "stdout",
     "output_type": "stream",
     "text": [
      "      SaleID  Cust_Key                 Date Sales Agent\n",
      "0          1         2  2017-02-01 00:00:00          B1\n",
      "1          2         3  2017-02-01 00:00:00          D4\n",
      "2          3         8  2017-02-01 00:00:00          B2\n",
      "3          4        11  2017-02-01 00:00:00          B2\n",
      "4          5        16  2017-02-01 00:00:00          B1\n",
      "5          6        17  2017-02-01 00:00:00          S1\n",
      "6          7        18  2017-02-01 00:00:00          B1\n",
      "7          8         1  2017-03-01 00:00:00          M2\n",
      "8          9        11  2017-03-01 00:00:00          B2\n",
      "9         10        13  2017-03-01 00:00:00          D3\n",
      "10        11         8  2017-04-01 00:00:00          B2\n",
      "11        12        10  2017-04-01 00:00:00          B1\n",
      "12        13        12  2017-04-01 00:00:00          B2\n",
      "13        14         3  2017-05-01 00:00:00          S1\n",
      "14        15        11  2017-05-01 00:00:00          D3\n",
      "15        16        12  2017-05-01 00:00:00          B2\n",
      "16        17        15  2017-05-01 00:00:00          S1\n",
      "17        18         6  2017-06-01 00:00:00          B1\n",
      "18        19         8  2017-06-01 00:00:00          D4\n",
      "19        20        17  2017-06-01 00:00:00          D3\n",
      "20        21        17  2017-06-01 00:00:00          B1\n",
      "21        22        13  2017-09-01 00:00:00          B1\n",
      "22        23         2  2017-10-01 00:00:00          S1\n",
      "23        24        11  2017-10-01 00:00:00          B1\n",
      "24        25        17  2017-10-01 00:00:00          D1\n",
      "25        26        17  2017-10-01 00:00:00          S2\n",
      "26        27        17  2017-10-01 00:00:00          S2\n",
      "27        28         3  2017-11-01 00:00:00          B1\n",
      "28        29         3  2017-11-01 00:00:00          B1\n",
      "29        30         7  2017-11-01 00:00:00          B2\n",
      "...      ...       ...                  ...         ...\n",
      "4384    4385         2  2016-07-09 00:00:00          D2\n",
      "4385    4386         4  2016-07-09 00:00:00          D2\n",
      "4386    4387         8  2016-07-09 00:00:00          D2\n",
      "4387    4388        14  2016-07-09 00:00:00          D2\n",
      "4388    4389        24  2016-07-09 00:00:00          D1\n",
      "4389    4390         4  2016-08-09 00:00:00          D2\n",
      "4390    4391        25  2016-08-09 00:00:00          D4\n",
      "4391    4392        29  2016-08-09 00:00:00          D4\n",
      "4392    4393         4  2016-09-09 00:00:00          D1\n",
      "4393    4394         6  2016-09-09 00:00:00          D3\n",
      "4394    4395         8  2016-09-09 00:00:00          D4\n",
      "4395    4396        12  2016-09-09 00:00:00          D1\n",
      "4396    4397        13  2016-09-09 00:00:00          D1\n",
      "4397    4398        22  2016-09-09 00:00:00          D4\n",
      "4398    4399         3  2016-12-09 00:00:00          D1\n",
      "4399    4400         9  2016-12-09 00:00:00          D3\n",
      "4400    4401         9  2016-12-09 00:00:00          D4\n",
      "4401    4402        15  2016-12-09 00:00:00          D4\n",
      "4402    4403        17  2016-12-09 00:00:00          D4\n",
      "4403    4404        17  2016-12-09 00:00:00          D3\n",
      "4404    4405        18  2016-12-09 00:00:00          D1\n",
      "4405    4406         5           13/09/2016          D4\n",
      "4406    4407        19           13/09/2016          D3\n",
      "4407    4408        22           13/09/2016          D1\n",
      "4408    4409         4           14/09/2016          D1\n",
      "4409    4410         9           14/09/2016          D4\n",
      "4410    4411        18           14/09/2016          D2\n",
      "4411    4412        20           14/09/2016          D3\n",
      "4412    4413        22           14/09/2016          B2\n",
      "4413    4414        28           14/09/2016          D4\n",
      "\n",
      "[4414 rows x 4 columns]\n"
     ]
    }
   ],
   "source": [
    "print(df_sale)"
   ]
  },
  {
   "cell_type": "code",
   "execution_count": null,
   "metadata": {},
   "outputs": [],
   "source": []
  }
 ],
 "metadata": {
  "kernelspec": {
   "display_name": "Python 3",
   "language": "python",
   "name": "python3"
  },
  "language_info": {
   "codemirror_mode": {
    "name": "ipython",
    "version": 3
   },
   "file_extension": ".py",
   "mimetype": "text/x-python",
   "name": "python",
   "nbconvert_exporter": "python",
   "pygments_lexer": "ipython3",
   "version": "3.6.5"
  }
 },
 "nbformat": 4,
 "nbformat_minor": 2
}
